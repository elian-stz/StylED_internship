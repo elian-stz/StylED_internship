{
 "cells": [
  {
   "cell_type": "markdown",
   "metadata": {},
   "source": [
    "# (Down)loading packages"
   ]
  },
  {
   "cell_type": "code",
   "execution_count": 42,
   "metadata": {
    "scrolled": true
   },
   "outputs": [
    {
     "name": "stdout",
     "output_type": "stream",
     "text": [
      "Defaulting to user installation because normal site-packages is not writeable\n",
      "Requirement already satisfied: numpy in /home/strozyk/.local/lib/python3.10/site-packages (1.24.3)\n",
      "Defaulting to user installation because normal site-packages is not writeable\n",
      "Requirement already satisfied: pandas in /home/strozyk/.local/lib/python3.10/site-packages (2.0.1)\n",
      "Requirement already satisfied: python-dateutil>=2.8.2 in /home/strozyk/.local/lib/python3.10/site-packages (from pandas) (2.8.2)\n",
      "Requirement already satisfied: pytz>=2020.1 in /usr/lib/python3/dist-packages (from pandas) (2022.1)\n",
      "Requirement already satisfied: tzdata>=2022.1 in /home/strozyk/.local/lib/python3.10/site-packages (from pandas) (2023.3)\n",
      "Requirement already satisfied: numpy>=1.21.0 in /home/strozyk/.local/lib/python3.10/site-packages (from pandas) (1.24.3)\n",
      "Requirement already satisfied: six>=1.5 in /usr/lib/python3/dist-packages (from python-dateutil>=2.8.2->pandas) (1.16.0)\n",
      "Defaulting to user installation because normal site-packages is not writeable\n",
      "Requirement already satisfied: Bio in /home/strozyk/.local/lib/python3.10/site-packages (1.5.9)\n",
      "Requirement already satisfied: biopython>=1.80 in /home/strozyk/.local/lib/python3.10/site-packages (from Bio) (1.81)\n",
      "Requirement already satisfied: requests in /usr/lib/python3/dist-packages (from Bio) (2.25.1)\n",
      "Requirement already satisfied: tqdm in /home/strozyk/.local/lib/python3.10/site-packages (from Bio) (4.65.0)\n",
      "Requirement already satisfied: mygene in /home/strozyk/.local/lib/python3.10/site-packages (from Bio) (3.2.2)\n",
      "Requirement already satisfied: pandas in /home/strozyk/.local/lib/python3.10/site-packages (from Bio) (2.0.1)\n",
      "Requirement already satisfied: pooch in /home/strozyk/.local/lib/python3.10/site-packages (from Bio) (1.7.0)\n",
      "Requirement already satisfied: gprofiler-official in /home/strozyk/.local/lib/python3.10/site-packages (from Bio) (1.0.0)\n",
      "Requirement already satisfied: numpy in /home/strozyk/.local/lib/python3.10/site-packages (from biopython>=1.80->Bio) (1.24.3)\n",
      "Requirement already satisfied: biothings-client>=0.2.6 in /home/strozyk/.local/lib/python3.10/site-packages (from mygene->Bio) (0.3.0)\n",
      "Requirement already satisfied: python-dateutil>=2.8.2 in /home/strozyk/.local/lib/python3.10/site-packages (from pandas->Bio) (2.8.2)\n",
      "Requirement already satisfied: pytz>=2020.1 in /usr/lib/python3/dist-packages (from pandas->Bio) (2022.1)\n",
      "Requirement already satisfied: tzdata>=2022.1 in /home/strozyk/.local/lib/python3.10/site-packages (from pandas->Bio) (2023.3)\n",
      "Requirement already satisfied: platformdirs>=2.5.0 in /home/strozyk/.local/lib/python3.10/site-packages (from pooch->Bio) (3.2.0)\n",
      "Requirement already satisfied: packaging>=20.0 in /home/strozyk/.local/lib/python3.10/site-packages (from pooch->Bio) (23.1)\n",
      "Requirement already satisfied: six>=1.5 in /usr/lib/python3/dist-packages (from python-dateutil>=2.8.2->pandas->Bio) (1.16.0)\n"
     ]
    }
   ],
   "source": [
    "!pip install numpy\n",
    "!pip install pandas\n",
    "!pip install Bio"
   ]
  },
  {
   "cell_type": "code",
   "execution_count": 28,
   "metadata": {
    "scrolled": true
   },
   "outputs": [],
   "source": [
    "from Bio.Blast import NCBIWWW\n",
    "from Bio.Blast import NCBIXML\n",
    "from Bio import SeqIO\n",
    "from Bio import Entrez\n",
    "\n",
    "Entrez.email = \"elian.strozyk@etu.umontpellier.fr\""
   ]
  },
  {
   "cell_type": "markdown",
   "metadata": {},
   "source": [
    "# Extracting sequences"
   ]
  },
  {
   "cell_type": "code",
   "execution_count": 29,
   "metadata": {
    "scrolled": true
   },
   "outputs": [],
   "source": [
    "# All stylins identified and their NCBI ID\n",
    "# 01, 02, 03, 04, 04bis, 05\n",
    "NCBI_Gene_ID = [\"NM_001162314.1\",\n",
    "                \"NM_001162671.2\",\n",
    "                \"NM_001161959.2\",\n",
    "                \"NM_001172260.1\",\n",
    "                \"NM_001172268.2\",\n",
    "                \"NM_001163252.1\"\n",
    "               ]\n",
    "\n",
    "NCBI_protein_ID = [\"NP_001155786.1\",\n",
    "                   \"NP_001156143.1\",\n",
    "                   \"NP_001155431.1\",\n",
    "                   \"NP_001165731.1\",\n",
    "                   \"NP_001165739.1\",\n",
    "                   \"NP_001156724.1\"\n",
    "                  ]"
   ]
  },
  {
   "cell_type": "markdown",
   "metadata": {},
   "source": [
    "## Retrieving DNA"
   ]
  },
  {
   "cell_type": "code",
   "execution_count": 30,
   "metadata": {
    "scrolled": true
   },
   "outputs": [
    {
     "data": {
      "text/plain": [
       "6"
      ]
     },
     "execution_count": 30,
     "metadata": {},
     "output_type": "execute_result"
    }
   ],
   "source": [
    "dna_search_results = Entrez.efetch(\"Nucleotide\",\n",
    "                                   id = \",\".join(NCBI_Gene_ID),\n",
    "                                   rettype = \"fasta\"\n",
    "                                  )\n",
    "dna_records = SeqIO.parse(dna_search_results, \"fasta\")\n",
    "#write a fasta file with stylin's sequences\n",
    "SeqIO.write(dna_records, \"./stylin_dna_sequence.fasta\", \"fasta\")"
   ]
  },
  {
   "cell_type": "markdown",
   "metadata": {},
   "source": [
    "## Retrieving proteins"
   ]
  },
  {
   "cell_type": "code",
   "execution_count": 31,
   "metadata": {
    "scrolled": true
   },
   "outputs": [
    {
     "data": {
      "text/plain": [
       "6"
      ]
     },
     "execution_count": 31,
     "metadata": {},
     "output_type": "execute_result"
    }
   ],
   "source": [
    "protein_search_results = Entrez.efetch(\"Protein\",\n",
    "                                       id = \",\".join(NCBI_Protein_ID),\n",
    "                                       rettype = \"fasta\"\n",
    "                                      )\n",
    "protein_records = SeqIO.parse(protein_search_results, \"fasta\")\n",
    "# write a fasta file with stylin's sequences\n",
    "SeqIO.write(protein_records, \"./stylin_protein_sequence.fasta\", \"fasta\")"
   ]
  },
  {
   "cell_type": "markdown",
   "metadata": {},
   "source": [
    "# Working with *Aphididae*\n",
    "## BLAST with proteins"
   ]
  },
  {
   "cell_type": "markdown",
   "metadata": {},
   "source": [
    "Biopython's qblast() function doesn't seem to work with several sequences:\n",
    "* With one sequence as input, it will return several sequences\n",
    "* With several sequences as input, it will return only one sequence\n",
    "\n",
    "As such, a way to avoid this problem is to run as many BLASTs as stylin sequences. This method is not very optimised, I might have to check other Python libraries.\n",
    "\n",
    "BLAST's parameters were changed to be close to the online one in order to retrieve as many sequences as possible."
   ]
  },
  {
   "cell_type": "code",
   "execution_count": 6,
   "metadata": {
    "scrolled": true
   },
   "outputs": [],
   "source": [
    "hit_ids = [] # stores all returned protein's IDs \n",
    "for stylin in NCBI_protein_ID :\n",
    "    result_handle = NCBIWWW.qblast(program = \"blastp\",\n",
    "                                   database = \"nr\",\n",
    "                                   sequence = stylin, # try with \\n instead of comma\n",
    "                                   entrez_query = \"Aphididae[Organism]\",\n",
    "                                   expect = 0.05,\n",
    "                                   gapcosts = \"11 1\",\n",
    "                                   hitlist_size = 200\n",
    "                                  )\n",
    "    blast_records = NCBIXML.parse(result_handle)\n",
    "    for blast_record in blast_records :\n",
    "        for alignment in blast_record.alignments :\n",
    "            if alignment.hit_id not in hit_ids :\n",
    "                hit_ids.append(alignment.hit_id)\n",
    "    with open(f\"{stylin}_protein_blast.xml\", \"w\") as fd :\n",
    "        fd.write(result_handle.read()) # write a file with all blast results appended. Doesn't work, file's empty\n",
    "    result_handle.close()\n",
    "    blast_records.close()"
   ]
  },
  {
   "cell_type": "code",
   "execution_count": 43,
   "metadata": {
    "scrolled": true
   },
   "outputs": [
    {
     "name": "stdout",
     "output_type": "stream",
     "text": [
      "Number of returned sequences: 337\n"
     ]
    },
    {
     "data": {
      "text/plain": [
       "337"
      ]
     },
     "execution_count": 43,
     "metadata": {},
     "output_type": "execute_result"
    }
   ],
   "source": [
    "print(\"Number of returned sequences:\", len(hit_ids))\n",
    "\n",
    "# storing all sequences as text and fasta files\n",
    "with open(\"blast_protein_ids.txt\", \"w\") as ft :\n",
    "    ft.write(\"\\n\".join(hit_ids))\n",
    "\n",
    "protein_search_results = Entrez.efetch(\"Protein\",\n",
    "                                       id = \",\".join(hit_ids),\n",
    "                                       rettype = \"fasta\"\n",
    "                                      )\n",
    "protein_records = SeqIO.parse(protein_search_results, \"fasta\")\n",
    "SeqIO.write(protein_records, \"./blast_protein_sequences.fasta\", \"fasta\")"
   ]
  },
  {
   "cell_type": "code",
   "execution_count": 91,
   "metadata": {
    "scrolled": true
   },
   "outputs": [
    {
     "name": "stdout",
     "output_type": "stream",
     "text": [
      "Number of returned sequences per species:\n",
      "Acyrthosiphon pisum : 44\n",
      "Myzus persicae : 37\n",
      "Aphis gossypii : 46\n",
      "Rhopalosiphum maidis : 34\n",
      "Melanaphis sacchari : 31\n",
      "Aphis craccivora : 24\n",
      "Sipha flava : 32\n",
      "Diuraphis noxia : 33\n",
      "Cinara cedri : 35\n",
      "Aphis glycines : 20\n",
      "Sitobion avenae : 1\n"
     ]
    }
   ],
   "source": [
    "\n",
    "import re\n",
    "dictionary = {}\n",
    "with open(\"blast_protein_sequences.fasta\", \"r\") as file :\n",
    "    for line in file :\n",
    "        for key in re.findall(\"\\[(.*)\\]\", line) :\n",
    "            if key not in dictionary :\n",
    "                dictionary[key] = 1\n",
    "            else :\n",
    "                dictionary[key] += 1\n",
    "    print(\"Number of returned sequences per species:\")\n",
    "    for key in dictionary :\n",
    "        print(f\"{key} : {dictionary[key]}\")"
   ]
  },
  {
   "cell_type": "markdown",
   "metadata": {},
   "source": [
    "# Summary"
   ]
  },
  {
   "cell_type": "markdown",
   "metadata": {},
   "source": [
    "* Extraction of stylin's DNA and protein sequences\n",
    "* BLAST with protein sequences for *Aphididae*, returns 337 sequences"
   ]
  },
  {
   "cell_type": "markdown",
   "metadata": {},
   "source": [
    "# Improvements"
   ]
  },
  {
   "cell_type": "markdown",
   "metadata": {},
   "source": [
    "* Run a single BLAST with all sequences instead of 6 BLASTs with one sequence"
   ]
  }
 ],
 "metadata": {
  "kernelspec": {
   "display_name": "Python 3 (ipykernel)",
   "language": "python",
   "name": "python3"
  },
  "language_info": {
   "codemirror_mode": {
    "name": "ipython",
    "version": 3
   },
   "file_extension": ".py",
   "mimetype": "text/x-python",
   "name": "python",
   "nbconvert_exporter": "python",
   "pygments_lexer": "ipython3",
   "version": "3.10.6"
  }
 },
 "nbformat": 4,
 "nbformat_minor": 2
}
