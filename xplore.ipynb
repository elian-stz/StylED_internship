{
 "cells": [
  {
   "cell_type": "markdown",
   "metadata": {},
   "source": [
    "# (Down)loading package"
   ]
  },
  {
   "cell_type": "code",
   "execution_count": 3,
   "metadata": {},
   "outputs": [
    {
     "name": "stdout",
     "output_type": "stream",
     "text": [
      "Defaulting to user installation because normal site-packages is not writeable\n",
      "Requirement already satisfied: numpy in /home/strozyk/.local/lib/python3.10/site-packages (1.24.3)\n",
      "Defaulting to user installation because normal site-packages is not writeable\n",
      "Requirement already satisfied: pep517 in /home/strozyk/.local/lib/python3.10/site-packages (0.13.0)\n",
      "Requirement already satisfied: tomli>=1.1.0 in /home/strozyk/.local/lib/python3.10/site-packages (from pep517) (2.0.1)\n",
      "Defaulting to user installation because normal site-packages is not writeable\n",
      "Requirement already satisfied: pandas in /home/strozyk/.local/lib/python3.10/site-packages (2.0.1)\n",
      "Requirement already satisfied: python-dateutil>=2.8.2 in /home/strozyk/.local/lib/python3.10/site-packages (from pandas) (2.8.2)\n",
      "Requirement already satisfied: pytz>=2020.1 in /usr/lib/python3/dist-packages (from pandas) (2022.1)\n",
      "Requirement already satisfied: tzdata>=2022.1 in /home/strozyk/.local/lib/python3.10/site-packages (from pandas) (2023.3)\n",
      "Requirement already satisfied: numpy>=1.21.0 in /home/strozyk/.local/lib/python3.10/site-packages (from pandas) (1.24.3)\n",
      "Requirement already satisfied: six>=1.5 in /usr/lib/python3/dist-packages (from python-dateutil>=2.8.2->pandas) (1.16.0)\n",
      "Defaulting to user installation because normal site-packages is not writeable\n",
      "Requirement already satisfied: Bio in /home/strozyk/.local/lib/python3.10/site-packages (1.5.9)\n",
      "Requirement already satisfied: biopython>=1.80 in /home/strozyk/.local/lib/python3.10/site-packages (from Bio) (1.81)\n",
      "Requirement already satisfied: requests in /usr/lib/python3/dist-packages (from Bio) (2.25.1)\n",
      "Requirement already satisfied: tqdm in /home/strozyk/.local/lib/python3.10/site-packages (from Bio) (4.65.0)\n",
      "Requirement already satisfied: mygene in /home/strozyk/.local/lib/python3.10/site-packages (from Bio) (3.2.2)\n",
      "Requirement already satisfied: pandas in /home/strozyk/.local/lib/python3.10/site-packages (from Bio) (2.0.1)\n",
      "Requirement already satisfied: pooch in /home/strozyk/.local/lib/python3.10/site-packages (from Bio) (1.7.0)\n",
      "Requirement already satisfied: gprofiler-official in /home/strozyk/.local/lib/python3.10/site-packages (from Bio) (1.0.0)\n",
      "Requirement already satisfied: numpy in /home/strozyk/.local/lib/python3.10/site-packages (from biopython>=1.80->Bio) (1.24.3)\n",
      "Requirement already satisfied: biothings-client>=0.2.6 in /home/strozyk/.local/lib/python3.10/site-packages (from mygene->Bio) (0.3.0)\n",
      "Requirement already satisfied: python-dateutil>=2.8.2 in /home/strozyk/.local/lib/python3.10/site-packages (from pandas->Bio) (2.8.2)\n",
      "Requirement already satisfied: pytz>=2020.1 in /usr/lib/python3/dist-packages (from pandas->Bio) (2022.1)\n",
      "Requirement already satisfied: tzdata>=2022.1 in /home/strozyk/.local/lib/python3.10/site-packages (from pandas->Bio) (2023.3)\n",
      "Requirement already satisfied: platformdirs>=2.5.0 in /home/strozyk/.local/lib/python3.10/site-packages (from pooch->Bio) (3.2.0)\n",
      "Requirement already satisfied: packaging>=20.0 in /home/strozyk/.local/lib/python3.10/site-packages (from pooch->Bio) (23.1)\n",
      "Requirement already satisfied: six>=1.5 in /usr/lib/python3/dist-packages (from python-dateutil>=2.8.2->pandas->Bio) (1.16.0)\n",
      "Defaulting to user installation because normal site-packages is not writeable\n",
      "Collecting pandoc\n",
      "  Downloading pandoc-2.3.tar.gz (33 kB)\n",
      "  Preparing metadata (setup.py) ... \u001b[?25ldone\n",
      "\u001b[?25hCollecting plumbum (from pandoc)\n",
      "  Downloading plumbum-1.8.1-py3-none-any.whl (126 kB)\n",
      "\u001b[2K     \u001b[38;2;114;156;31m━━━━━━━━━━━━━━━━━━━━━━━━━━━━━━━━━━━━━━━\u001b[0m \u001b[32m126.7/126.7 kB\u001b[0m \u001b[31m4.3 MB/s\u001b[0m eta \u001b[36m0:00:00\u001b[0m\n",
      "\u001b[?25hCollecting ply (from pandoc)\n",
      "  Downloading ply-3.11-py2.py3-none-any.whl (49 kB)\n",
      "\u001b[2K     \u001b[38;2;114;156;31m━━━━━━━━━━━━━━━━━━━━━━━━━━━━━━━━━━━━━━━━\u001b[0m \u001b[32m49.6/49.6 kB\u001b[0m \u001b[31m7.8 MB/s\u001b[0m eta \u001b[36m0:00:00\u001b[0m\n",
      "\u001b[?25hBuilding wheels for collected packages: pandoc\n",
      "  Building wheel for pandoc (setup.py) ... \u001b[?25ldone\n",
      "\u001b[?25h  Created wheel for pandoc: filename=pandoc-2.3-py3-none-any.whl size=33262 sha256=d4615f43e8c35c71a6f64e8857e521ca7ab1ae3ec4cc3d2c0a46b8219022293e\n",
      "  Stored in directory: /home/strozyk/.cache/pip/wheels/76/27/c2/c26175310aadcb8741b77657a1bb49c50cc7d4cdbf9eee0005\n",
      "Successfully built pandoc\n",
      "Installing collected packages: ply, plumbum, pandoc\n",
      "Successfully installed pandoc-2.3 plumbum-1.8.1 ply-3.11\n"
     ]
    }
   ],
   "source": [
    "!pip install numpy\n",
    "!pip install pep517\n",
    "!pip install pandas\n",
    "!pip install Bio"
   ]
  },
  {
   "cell_type": "code",
   "execution_count": 1,
   "metadata": {},
   "outputs": [],
   "source": [
    "from Bio.Blast import NCBIWWW\n",
    "from Bio.Blast import NCBIXML\n",
    "from Bio import SeqIO\n",
    "from Bio import Entrez\n",
    "\n",
    "Entrez.email = \"elian.strozyk@etu.umontpellier.fr\""
   ]
  },
  {
   "cell_type": "code",
   "execution_count": 2,
   "metadata": {},
   "outputs": [],
   "source": [
    "# All stylins identified and their NCBI ID\n",
    "# 01, 02, 03, 04, 04bis, 05\n",
    "NCBI_Gene_ID = [\"NM_001162314.1\",\n",
    "                \"NM_001162671.2\",\n",
    "                \"NM_001161959.2\",\n",
    "                \"NM_001172260.1\",\n",
    "                \"NM_001172268.2\",\n",
    "                \"NM_001163252.1\"\n",
    "               ]\n",
    "\n",
    "NCBI_Protein_ID = [\"NP_001155786.1\",\n",
    "                   \"NP_001156143.1\",\n",
    "                   \"NP_001155431.1\",\n",
    "                   \"NP_001165731.1\",\n",
    "                   \"NP_001165739.1\",\n",
    "                   \"NP_001156724.1\"\n",
    "                  ]"
   ]
  },
  {
   "cell_type": "code",
   "execution_count": 3,
   "metadata": {},
   "outputs": [
    {
     "data": {
      "text/plain": [
       "6"
      ]
     },
     "execution_count": 3,
     "metadata": {},
     "output_type": "execute_result"
    }
   ],
   "source": [
    "################ Retrieve DNA sequences\n",
    "dna_search_results = Entrez.efetch(\"Nucleotide\",\n",
    "                                   id = \",\".join(NCBI_Gene_ID),\n",
    "                                   rettype = \"fasta\"\n",
    "                                  )\n",
    "dna_records = SeqIO.parse(dna_search_results, \"fasta\")\n",
    "SeqIO.write(dna_records, \"./Stylin_DNA_sequence.fasta\", \"fasta\")"
   ]
  },
  {
   "cell_type": "code",
   "execution_count": 4,
   "metadata": {},
   "outputs": [
    {
     "data": {
      "text/plain": [
       "6"
      ]
     },
     "execution_count": 4,
     "metadata": {},
     "output_type": "execute_result"
    }
   ],
   "source": [
    "################ Retrieve protein sequences\n",
    "protein_search_results = Entrez.efetch(\"Protein\",\n",
    "                                       id = \",\".join(NCBI_Protein_ID),\n",
    "                                       rettype = \"fasta\"\n",
    "                                      )\n",
    "protein_records = SeqIO.parse(protein_search_results, \"fasta\")\n",
    "SeqIO.write(protein_records, \"./Stylin_protein_sequence.fasta\", \"fasta\")\n"
   ]
  },
  {
   "cell_type": "code",
   "execution_count": null,
   "metadata": {},
   "outputs": [],
   "source": [
    "hit_ids = []\n",
    "with open(\"Stylin_protein_sequence.fasta\", \"r\") as fd :\n",
    "    result_handle = NCBIWWW.qblast(program = \"blastp\",\n",
    "                                   database = \"nr\",\n",
    "                                   sequence = fd,\n",
    "                                   composition_based_statistics = 2,\n",
    "                                   db_genetic_code = None,\n",
    "                                   endpoints = None,\n",
    "                                   entrez_query = \"Aphididae[Organism]\", ##########\n",
    "                                   expect = 0.05, ################\n",
    "                                   filter = \"F\",\n",
    "                                   gapcosts = \"11 1\",\n",
    "                                   genetic_code = 1,\n",
    "                                   hitlist_size = 500,\n",
    "                                   i_thresh = None,\n",
    "                                   layout = None,\n",
    "                                   lcase_mask = None,\n",
    "                                   matrix_name = \"BLOSUM62\",\n",
    "                                   nucl_penalty = None,\n",
    "                                   nucl_reward = None,\n",
    "                                   other_advanced = None,\n",
    "                                   perc_ident = None,\n",
    "                                   phi_pattern = None,\n",
    "                                   query_file = None,\n",
    "                                   query_believe_defline = None,\n",
    "                                   searchsp_eff = None,\n",
    "                                   service = None,\n",
    "                                   threshold = 21,\n",
    "                                   ungapped_alignment = None,\n",
    "                                   word_size = 5, ###################\n",
    "                                   short_query = None,\n",
    "                                   alignments = 500,\n",
    "                                   alignment_view = None,\n",
    "                                   descriptions = 500,\n",
    "                                   expect_low = None,\n",
    "                                   expect_high = None,\n",
    "                                   format_object = None,\n",
    "                                   format_type = \"XML\",\n",
    "                                   results_file = None,\n",
    "                                   show_overview = None,\n",
    "                                   template_type = None,\n",
    "                                   template_length = None,\n",
    "                                   username = \"blast\",\n",
    "                                   password = None\n",
    "                                  )\n",
    "    with open(\"test.xml\", \"w\") as ft :\n",
    "              ft.write(result_handle.read())"
   ]
  },
  {
   "cell_type": "code",
   "execution_count": 29,
   "metadata": {},
   "outputs": [],
   "source": [
    "blast_records = NCBIXML.parse(result_handle)\n",
    "with open(\"Stylin_protein_blast_IDs.txt\", \"w\") as file :\n",
    "    for blast_record in blast_records:\n",
    "        for alignment in blast_record.alignments:\n",
    "            hit_ids.append(alignment.hit_id)\n",
    "            file.write(alignment.hit_id)"
   ]
  },
  {
   "cell_type": "code",
   "execution_count": 19,
   "metadata": {},
   "outputs": [
    {
     "name": "stdout",
     "output_type": "stream",
     "text": [
      "Help on function qblast in module Bio.Blast.NCBIWWW:\n",
      "\n",
      "qblast(program, database, sequence, url_base='https://blast.ncbi.nlm.nih.gov/Blast.cgi', auto_format=None, composition_based_statistics=None, db_genetic_code=None, endpoints=None, entrez_query='(none)', expect=10.0, filter=None, gapcosts=None, genetic_code=None, hitlist_size=50, i_thresh=None, layout=None, lcase_mask=None, matrix_name=None, nucl_penalty=None, nucl_reward=None, other_advanced=None, perc_ident=None, phi_pattern=None, query_file=None, query_believe_defline=None, query_from=None, query_to=None, searchsp_eff=None, service=None, threshold=None, ungapped_alignment=None, word_size=None, short_query=None, alignments=500, alignment_view=None, descriptions=500, entrez_links_new_window=None, expect_low=None, expect_high=None, format_entrez_query=None, format_object=None, format_type='XML', ncbi_gi=None, results_file=None, show_overview=None, megablast=None, template_type=None, template_length=None, username='blast', password=None)\n",
      "    BLAST search using NCBI's QBLAST server or a cloud service provider.\n",
      "    \n",
      "    Supports all parameters of the old qblast API for Put and Get.\n",
      "    \n",
      "    Please note that NCBI uses the new Common URL API for BLAST searches\n",
      "    on the internet (http://ncbi.github.io/blast-cloud/dev/api.html). Thus,\n",
      "    some of the parameters used by this function are not (or are no longer)\n",
      "    officially supported by NCBI. Although they are still functioning, this\n",
      "    may change in the future.\n",
      "    \n",
      "    The Common URL API (http://ncbi.github.io/blast-cloud/dev/api.html) allows\n",
      "    doing BLAST searches on cloud servers. To use this feature, please set\n",
      "    ``url_base='http://host.my.cloud.service.provider.com/cgi-bin/blast.cgi'``\n",
      "    and ``format_object='Alignment'``. For more details, please see\n",
      "    https://blast.ncbi.nlm.nih.gov/Blast.cgi?PAGE_TYPE=BlastDocs&DOC_TYPE=CloudBlast\n",
      "    \n",
      "    Some useful parameters:\n",
      "    \n",
      "     - program        blastn, blastp, blastx, tblastn, or tblastx (lower case)\n",
      "     - database       Which database to search against (e.g. \"nr\").\n",
      "     - sequence       The sequence to search.\n",
      "     - ncbi_gi        TRUE/FALSE whether to give 'gi' identifier.\n",
      "     - descriptions   Number of descriptions to show.  Def 500.\n",
      "     - alignments     Number of alignments to show.  Def 500.\n",
      "     - expect         An expect value cutoff.  Def 10.0.\n",
      "     - matrix_name    Specify an alt. matrix (PAM30, PAM70, BLOSUM80, BLOSUM45).\n",
      "     - filter         \"none\" turns off filtering.  Default no filtering\n",
      "     - format_type    \"HTML\", \"Text\", \"ASN.1\", or \"XML\".  Def. \"XML\".\n",
      "     - entrez_query   Entrez query to limit Blast search\n",
      "     - hitlist_size   Number of hits to return. Default 50\n",
      "     - megablast      TRUE/FALSE whether to use MEga BLAST algorithm (blastn only)\n",
      "     - short_query    TRUE/FALSE whether to adjust the search parameters for a\n",
      "                      short query sequence. Note that this will override\n",
      "                      manually set parameters like word size and e value. Turns\n",
      "                      off when sequence length is > 30 residues. Default: None.\n",
      "     - service        plain, psi, phi, rpsblast, megablast (lower case)\n",
      "    \n",
      "    This function does no checking of the validity of the parameters\n",
      "    and passes the values to the server as is.  More help is available at:\n",
      "    https://ncbi.github.io/blast-cloud/dev/api.html\n",
      "\n"
     ]
    }
   ],
   "source": [
    "help(NCBIWWW.qblast)"
   ]
  },
  {
   "cell_type": "code",
   "execution_count": 30,
   "metadata": {},
   "outputs": [],
   "source": [
    "#result_handle.close()"
   ]
  },
  {
   "cell_type": "code",
   "execution_count": null,
   "metadata": {},
   "outputs": [],
   "source": []
  }
 ],
 "metadata": {
  "kernelspec": {
   "display_name": "Python 3 (ipykernel)",
   "language": "python",
   "name": "python3"
  },
  "language_info": {
   "codemirror_mode": {
    "name": "ipython",
    "version": 3
   },
   "file_extension": ".py",
   "mimetype": "text/x-python",
   "name": "python",
   "nbconvert_exporter": "python",
   "pygments_lexer": "ipython3",
   "version": "3.10.6"
  }
 },
 "nbformat": 4,
 "nbformat_minor": 2
}
